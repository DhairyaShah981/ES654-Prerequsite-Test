{
  "cells": [
    {
      "cell_type": "markdown",
      "id": "9dcd93fb",
      "metadata": {
        "id": "9dcd93fb"
      },
      "source": [
        "# Machine Learning Pre-requisite Assignment"
      ]
    },
    {
      "cell_type": "markdown",
      "id": "f3a3ab6e",
      "metadata": {
        "id": "f3a3ab6e"
      },
      "source": [
        "###### Answer 1:"
      ]
    },
    {
      "cell_type": "markdown",
      "id": "c7f1cc58",
      "metadata": {
        "id": "c7f1cc58"
      },
      "source": [
        "If we multiply a matrix A with n rows and k columns with a matrix B with k rows and m columns, we get the result matrix with n rows and m columns. It is because when we multiply each row of A with each column of B we will get n.m elements in the final matrix. \n",
        "\n",
        "If we write down the values of all the elements of the result matrix, we will see that each element is the sum of k pairs where each pair is the product of two elements (one from ith row of A and one from ith column of B). Hence there are k multiplications in each entry of result matrix. As I said before there are n.m entries in the result matrix. Therefore we can conclude that there are n.k.m multiplications in the matrix multiplications of A and B.\n",
        "\n",
        "As I said that each element is the sum of \"k pairs\", we can say that there will be k-1 additions in all the entries of result matrix. If there n.m entries in the result then there will be a total of n.m.(k-1) additions in the matrix multiplication of A and B."
      ]
    },
    {
      "cell_type": "markdown",
      "id": "d5e01c1b",
      "metadata": {
        "id": "d5e01c1b"
      },
      "source": [
        "###### Answer 2:"
      ]
    },
    {
      "cell_type": "code",
      "execution_count": 57,
      "id": "4954da6e",
      "metadata": {
        "colab": {
          "base_uri": "https://localhost:8080/"
        },
        "id": "4954da6e",
        "outputId": "24c28ba9-295a-48c2-b9c7-c2fcf9cd96b0"
      },
      "outputs": [
        {
          "output_type": "stream",
          "name": "stdout",
          "text": [
            "Enter the values of n, k and m:\n",
            "32\n",
            "64\n",
            "80\n",
            "The average time taken:  50792.30642900011 μs\n",
            "Standard deviation:  2913.0012530736253 μs\n"
          ]
        }
      ],
      "source": [
        "# Using list of lists\n",
        "import timeit\n",
        "import statistics as st\n",
        "import random\n",
        "\n",
        "print(\"Enter the values of n, k and m:\")\n",
        "n = int(input())\n",
        "k = int(input())\n",
        "m = int(input())\n",
        "\n",
        "def matrix_multiplication(n, k, m):\n",
        "    matrix1 = []\n",
        "\n",
        "    for i in range(n):\n",
        "        temp = []\n",
        "        for j in range(k):\n",
        "            temp.append(random.randint(-2147483648, 2147483647))\n",
        "        matrix1.append(temp)\n",
        "\n",
        "    matrix2 = []\n",
        "\n",
        "    for i in range(k):\n",
        "        temp = []\n",
        "        for j in range(m):\n",
        "            temp.append(random.randint(-2147483648, 2147483647))\n",
        "        matrix2.append(temp)\n",
        "\n",
        "\n",
        "\n",
        "    result = [[0 for x in range(m)] for y in range(n)]\n",
        "\n",
        "    begin = timeit.default_timer()\n",
        "    # iterate through rows of matrix1\n",
        "    for i in range(len(matrix1)):\n",
        "        # iterate through columns of matrix2\n",
        "        for j in range(len(matrix2[0])):\n",
        "            # iterate through rows of matrix2\n",
        "            for h in range(len(matrix2)):\n",
        "                result[i][j] += matrix1[i][h] * matrix2[h][j]\n",
        "    end = timeit.default_timer()\n",
        "    elapsed_time = round((end - begin) * 10 ** 6, 3)\n",
        "    return elapsed_time\n",
        "\n",
        "timetaken = []\n",
        "def get_avg(arr):\n",
        "    sumi = 0\n",
        "    for i in range(len(arr)):\n",
        "        sumi = sumi + arr[i]\n",
        "    return sumi/len(arr)\n",
        "\n",
        "for i in range(1000):\n",
        "    time = matrix_multiplication(n, k, m)\n",
        "    timetaken.append(time)\n",
        "\n",
        "avg = get_avg(timetaken)\n",
        "print(\"The average time taken: \", avg, \"μs\")\n",
        "print(\"Standard deviation: \", st.stdev(timetaken), \"μs\")"
      ]
    },
    {
      "cell_type": "code",
      "execution_count": 58,
      "id": "3a56d8da",
      "metadata": {
        "colab": {
          "base_uri": "https://localhost:8080/"
        },
        "id": "3a56d8da",
        "outputId": "187c52f3-3c1a-41f3-d263-1673b3fd74b2"
      },
      "outputs": [
        {
          "output_type": "stream",
          "name": "stdout",
          "text": [
            "Enter the values of n, k and m:\n",
            "32\n",
            "64\n",
            "80\n",
            "The average time taken:  235.678882 μs\n",
            "Standard deviation:  321.04956910911005 μs\n"
          ]
        }
      ],
      "source": [
        "# Using numpy\n",
        "import timeit\n",
        "import numpy as np\n",
        "import statistics as st\n",
        "import random \n",
        "\n",
        "print(\"Enter the values of n, k and m:\")\n",
        "n = int(input())\n",
        "k = int(input())\n",
        "m = int(input())\n",
        "\n",
        "def matrix_multiplication(n, k, m):\n",
        "    \n",
        "    entries1 = []\n",
        "    for i in range(n*k):\n",
        "      entries1.append(random.randint(-2147483648, 2147483647))\n",
        "    matrix1 = np.array(entries1).reshape(n, k)\n",
        "\n",
        "    entries2 = []\n",
        "    for i in range(k*m):\n",
        "      entries2.append(random.randint(-2147483648, 2147483647))\n",
        "    matrix2 = np.array(entries2).reshape(k, m)\n",
        "\n",
        "    begin = timeit.default_timer()\n",
        "    result = np.dot(matrix1, matrix2)\n",
        "    end = timeit.default_timer()\n",
        "\n",
        "    elapsed_time = round((end - begin) * 10 ** 6, 3)\n",
        "    return elapsed_time\n",
        "\n",
        "timetaken = []\n",
        "def get_avg(arr):\n",
        "    sumi = 0\n",
        "    for i in range(len(arr)):\n",
        "        sumi = sumi + arr[i]\n",
        "    return sumi/len(arr)\n",
        "\n",
        "for i in range(1000):\n",
        "    time = matrix_multiplication(n, k, m)\n",
        "    timetaken.append(time)\n",
        "\n",
        "avg = get_avg(timetaken)\n",
        "print(\"The average time taken: \", avg, \"μs\")\n",
        "print(\"Standard deviation: \", st.stdev(timetaken), \"μs\")"
      ]
    },
    {
      "cell_type": "markdown",
      "id": "09b26661",
      "metadata": {
        "id": "09b26661"
      },
      "source": [
        "As we can see, the time in NumPy is 100 times lesser, making it quicker than the list of lists technique. This is because Numpy is built in C and translates its internal data to ctypes. Lists, unlike NumPy, do not provide \"vectorized\" operations such as element-wise addition and multiplication. Since they might include objects of various types, Python must maintain type information for each element and run type dispatching code when working on each member. To conclude, vectorized operations in Numpy are translated to highly optimized C code, making them far quicker than their standard Python equivalents.\n",
        "\n",
        "[Referred from StackOverflow article on this topic](https://stackoverflow.com/questions/42227432/why-is-it-that-np-dot-is-so-much-faster-than-finding-the-dot-product-using-for-l#:~:text=Because%20np.,faster%20than%20the%20Python%20interpreter)"
      ]
    },
    {
      "cell_type": "markdown",
      "id": "e3b7d972",
      "metadata": {
        "id": "e3b7d972"
      },
      "source": [
        "###### Answer 3:"
      ]
    },
    {
      "cell_type": "code",
      "execution_count": 59,
      "id": "8b9ba97a",
      "metadata": {
        "colab": {
          "base_uri": "https://localhost:8080/"
        },
        "id": "8b9ba97a",
        "outputId": "01c4a8dc-3bb4-4a02-9e37-4e38518a5a52"
      },
      "outputs": [
        {
          "output_type": "stream",
          "name": "stdout",
          "text": [
            "Please enter the length of the array:\n",
            "10\n",
            "The average time taken:  126.35672749999996 μs\n",
            "Standard deviation:  253.0671023189389 μs\n"
          ]
        }
      ],
      "source": [
        "import timeit\n",
        "import statistics as st\n",
        "import random \n",
        "\n",
        "def brute_median(A):\n",
        "  begin = timeit.default_timer()\n",
        "  n = len(A)\n",
        "  l = n // 2\n",
        "  largest = -2454635434\n",
        "  for i in range(0, n):\n",
        "    largest = max(largest, A[i])\n",
        "\n",
        "  for i in range(l):\n",
        "    maxi = -2454635434\n",
        "    last = largest\n",
        "    for j in range(n):\n",
        "      if(A[j] > maxi and A[j] < largest):\n",
        "        maxi = A[j]\n",
        "    largest = maxi\n",
        "  if n % 2 == 0:\n",
        "    median = (largest + last) / 2\n",
        "  else:\n",
        "    median = largest\n",
        "  #return median\n",
        "  end = timeit.default_timer()\n",
        "  elapsed_time = round((end - begin) * 10 ** 6, 3)\n",
        "  return elapsed_time\n",
        "\n",
        "print(\"Please enter the length of the array:\") \n",
        "n = int(input())\n",
        "entries = []\n",
        "for i in range(n):\n",
        "  entries.append(random.randint(-2147483648, 2147483647))\n",
        "\n",
        "#arr = [ 5, 10, 1, 3, 4, 19, 9, 2]\n",
        "#print(brute_median(arr))\n",
        "\n",
        "for i in range(1000):\n",
        "    time = brute_median(entries)\n",
        "    timetaken.append(time)\n",
        "\n",
        "avg = get_avg(timetaken)\n",
        "print(\"The average time taken: \", avg, \"μs\")\n",
        "print(\"Standard deviation: \", st.stdev(timetaken), \"μs\")"
      ]
    },
    {
      "cell_type": "code",
      "source": [
        "import timeit\n",
        "import statistics as st\n",
        "import random \n",
        "\n",
        "def find_median(lst):\n",
        "  begin = timeit.default_timer()\n",
        "  lst.sort()\n",
        "  if len(lst) % 2 == 1:\n",
        "    median = lst[len(lst) // 2]\n",
        "  else:\n",
        "    median = (lst[len(lst) // 2 - 1] + lst[len(lst) // 2]) / 2\n",
        "  #return median\n",
        "  end = timeit.default_timer()\n",
        "  elapsed_time = round((end - begin) * 10 ** 6, 3)\n",
        "  return elapsed_time\n",
        "\n",
        "print(\"Please enter the length of the array:\") \n",
        "n = int(input())\n",
        "entries = []\n",
        "for i in range(n):\n",
        "  entries.append(random.randint(-2147483648, 2147483647))\n",
        "\n",
        "#arr = [ 5, 10, 1, 3, 4, 19, 9, 2]\n",
        "#print(find_median(arr))\n",
        "\n",
        "for i in range(1000):\n",
        "    time = find_median(entries)\n",
        "    timetaken.append(time)\n",
        "\n",
        "avg = get_avg(timetaken)\n",
        "print(\"The average time taken: \", avg, \"μs\")\n",
        "print(\"Standard deviation: \", st.stdev(timetaken), \"μs\")"
      ],
      "metadata": {
        "colab": {
          "base_uri": "https://localhost:8080/"
        },
        "id": "JFwoL1gxcAj4",
        "outputId": "723d021a-c62b-46ea-c39e-667882796de6"
      },
      "id": "JFwoL1gxcAj4",
      "execution_count": 60,
      "outputs": [
        {
          "output_type": "stream",
          "name": "stdout",
          "text": [
            "Please enter the length of the array:\n",
            "10\n",
            "The average time taken:  84.59911366666657 μs\n",
            "Standard deviation:  214.88806308830658 μs\n"
          ]
        }
      ]
    },
    {
      "cell_type": "code",
      "source": [
        "import timeit\n",
        "import statistics as st\n",
        "import random \n",
        "\n",
        "def quickselect(lst, k):\n",
        "  if not 0 <= k < len(lst):\n",
        "    return None\n",
        "\n",
        "  pivot = lst[len(lst) // 2]\n",
        "  left = [x for x in lst if x < pivot]\n",
        "  middle = [x for x in lst if x == pivot]\n",
        "  right = [x for x in lst if x > pivot]\n",
        "\n",
        "  if k < len(left):\n",
        "    return quickselect(left, k)\n",
        "  elif k < len(left) + len(middle):\n",
        "    return middle[0]\n",
        "  else:\n",
        "    return quickselect(right, k - len(left) - len(middle))\n",
        "\n",
        "def find_median(lst):\n",
        "  begin = timeit.default_timer()\n",
        "  if len(lst) % 2 == 1:\n",
        "    median = quickselect(lst, len(lst) // 2)\n",
        "  else:\n",
        "    median = (quickselect(lst, len(lst) // 2 - 1) + quickselect(lst, len(lst) // 2)) / 2\n",
        "  #return median\n",
        "  end = timeit.default_timer()\n",
        "  elapsed_time = round((end - begin) * 10 ** 6, 3)\n",
        "  return elapsed_time\n",
        "\n",
        "print(\"Please enter the length of the array:\") \n",
        "n = int(input())\n",
        "entries = []\n",
        "for i in range(n):\n",
        "  entries.append(random.randint(-2147483648, 2147483647))\n",
        "\n",
        "#arr = [ 5, 10, 1, 3, 4, 19, 9, 2]\n",
        "#print(find_median(arr))\n",
        "\n",
        "for i in range(1000):\n",
        "    time = find_median(entries)\n",
        "    timetaken.append(time)\n",
        "\n",
        "avg = get_avg(timetaken)\n",
        "print(\"The average time taken: \", avg, \"μs\")\n",
        "print(\"Standard deviation: \", st.stdev(timetaken), \"μs\")"
      ],
      "metadata": {
        "colab": {
          "base_uri": "https://localhost:8080/"
        },
        "id": "mKt6D1LtdTWD",
        "outputId": "1dbc29ec-36f4-427e-cb24-a1c71bc829ce"
      },
      "id": "mKt6D1LtdTWD",
      "execution_count": 61,
      "outputs": [
        {
          "output_type": "stream",
          "name": "stdout",
          "text": [
            "Please enter the length of the array:\n",
            "10\n",
            "The average time taken:  71.87054949999988 μs\n",
            "Standard deviation:  187.45337735973297 μs\n"
          ]
        }
      ]
    },
    {
      "cell_type": "code",
      "source": [
        "import timeit\n",
        "import statistics as st\n",
        "import random \n",
        "\n",
        "def find_median(arr):\n",
        "  begin = timeit.default_timer()\n",
        "  median = np.median(arr)\n",
        "  end = timeit.default_timer()\n",
        "  #return median\n",
        "  elapsed_time = round((end - begin) * 10 ** 6, 3)\n",
        "  return elapsed_time\n",
        "\n",
        "print(\"Please enter the length of the array:\") \n",
        "n = int(input())\n",
        "entries = []\n",
        "for i in range(n):\n",
        "  entries.append(random.randint(-2147483648, 2147483647))\n",
        "#arr = [ 5, 10, 1, 3, 4, 19, 9, 2]\n",
        "#print(median)\n",
        "\n",
        "for i in range(1000):\n",
        "    time = find_median(entries)\n",
        "    timetaken.append(time)\n",
        "\n",
        "avg = get_avg(timetaken)\n",
        "print(\"The average time taken: \", avg, \"μs\")\n",
        "print(\"Standard deviation: \", st.stdev(timetaken), \"μs\")"
      ],
      "metadata": {
        "colab": {
          "base_uri": "https://localhost:8080/"
        },
        "id": "ZlabN9e0o69k",
        "outputId": "b779b13c-d120-4c16-ac90-a2df3dc1703e"
      },
      "id": "ZlabN9e0o69k",
      "execution_count": 62,
      "outputs": [
        {
          "output_type": "stream",
          "name": "stdout",
          "text": [
            "Please enter the length of the array:\n",
            "10\n",
            "The average time taken:  63.50700439999978 μs\n",
            "Standard deviation:  168.63588056396983 μs\n"
          ]
        }
      ]
    },
    {
      "cell_type": "markdown",
      "source": [
        "The time complexity of first approach is approximately $O(n^2)$. The time complexity of sorting approach (2nd) is $O(nlogn)$. I also learned about the quickselect approach (3rd) to find the median. It is similar to quicksort algorithm and its average time complexity is $O(n)$ and in worst case it goes to $O(n^2)$.\n",
        "\n",
        "Now let us compare all of those to numpy.median function. We can observe that 4th approach is significantly faster than all the three approaches. It is because of the reason explained in 2nd answer."
      ],
      "metadata": {
        "id": "hIu7yeDCmVwD"
      },
      "id": "hIu7yeDCmVwD"
    },
    {
      "cell_type": "markdown",
      "id": "7b14d73f",
      "metadata": {
        "id": "7b14d73f"
      },
      "source": [
        "###### Answer 4:"
      ]
    },
    {
      "cell_type": "markdown",
      "id": "a387f45a",
      "metadata": {
        "id": "a387f45a"
      },
      "source": [
        "The gradient of $f(x,y) = x^2y + y^3sin(x)$ with respect to x is $2xy + y^3cos(x)$ and with respect to y is $x^2 + 3y^2sin(x)$"
      ]
    },
    {
      "cell_type": "markdown",
      "id": "7129be81",
      "metadata": {
        "id": "7129be81"
      },
      "source": [
        "###### Answer 5:"
      ]
    },
    {
      "cell_type": "code",
      "source": [
        "import jax.numpy as np\n",
        "from jax import grad, jit\n",
        "\n",
        "def f(x, y):\n",
        "    return x**2 * y + y**3 * np.sin(x)\n",
        "\n",
        "dfdx = grad(f, 0)\n",
        "dfdy = grad(f, 1)\n",
        "\n",
        "grad_x = dfdx(1.5, 4.1)\n",
        "grad_y = dfdy(1.5, 4.1)\n",
        "\n",
        "print(grad_x) #17.175278\n",
        "print(grad_y) #52.553673"
      ],
      "metadata": {
        "colab": {
          "base_uri": "https://localhost:8080/"
        },
        "id": "L0l9Gm7EQZdS",
        "outputId": "75812ec7-ce53-4c2a-8975-1bf0a2466370"
      },
      "id": "L0l9Gm7EQZdS",
      "execution_count": 34,
      "outputs": [
        {
          "output_type": "stream",
          "name": "stdout",
          "text": [
            "17.175278\n",
            "52.553673\n"
          ]
        }
      ]
    },
    {
      "cell_type": "code",
      "source": [
        "import jax.numpy as np\n",
        "\n",
        "def f(x, y):\n",
        "  return 2*x*y + y**3*np.cos(x)\n",
        "def g(x, y):\n",
        "  return x**2 + 3*y**2*np.sin(x) \n",
        "\n",
        "print(f(1.5, 4.1)) #17.175278\n",
        "print(g(1.5, 4.1)) #52.553673\n"
      ],
      "metadata": {
        "colab": {
          "base_uri": "https://localhost:8080/"
        },
        "id": "7hUEIJQUthDy",
        "outputId": "4d82960e-8724-4d3e-bd9b-cf8e18caa389"
      },
      "id": "7hUEIJQUthDy",
      "execution_count": 28,
      "outputs": [
        {
          "output_type": "stream",
          "name": "stdout",
          "text": [
            "17.175278\n",
            "52.553673\n"
          ]
        }
      ]
    },
    {
      "cell_type": "markdown",
      "source": [
        "As you can see, using jax and hardcoding the gradient we can check for random values of x and y that our analytical solution of gradient is correct."
      ],
      "metadata": {
        "id": "f4B_gwuCvhpl"
      },
      "id": "f4B_gwuCvhpl"
    },
    {
      "cell_type": "markdown",
      "id": "775c6554",
      "metadata": {
        "id": "775c6554"
      },
      "source": [
        "###### Answer 6:"
      ]
    },
    {
      "cell_type": "code",
      "execution_count": 51,
      "id": "9ab748bf",
      "metadata": {
        "colab": {
          "base_uri": "https://localhost:8080/"
        },
        "id": "9ab748bf",
        "outputId": "ea294b5c-1f9e-4fb9-8deb-2ef011f658c8"
      },
      "outputs": [
        {
          "output_type": "stream",
          "name": "stdout",
          "text": [
            "Matrix([[2*x*y + y**3*cos(x)], [x**2 + 3*y**2*sin(x)]])\n",
            "[17.1752786761398, 52.5536721744425]\n"
          ]
        }
      ],
      "source": [
        "import sympy\n",
        "\n",
        "x, y = sympy.symbols('x y')\n",
        "f = x**2 * y + y**3 * sympy.sin(x)\n",
        "gradient = sympy.Matrix([sympy.diff(f, x), sympy.diff(f, y)])\n",
        "\n",
        "print(gradient)\n",
        "\n",
        "gradient_at_xy = [g.evalf(subs={x: 1.5, y: 4.1}) for g in gradient] \n",
        "print(gradient_at_xy) #[17.1752786761398, 52.5536721744425]"
      ]
    },
    {
      "cell_type": "markdown",
      "id": "0887c4ff",
      "metadata": {
        "id": "0887c4ff"
      },
      "source": [
        "###### Answer 7:"
      ]
    },
    {
      "cell_type": "code",
      "execution_count": 35,
      "id": "b705f94b",
      "metadata": {
        "colab": {
          "base_uri": "https://localhost:8080/"
        },
        "id": "b705f94b",
        "outputId": "64fea2f4-41ad-4a5e-c93b-881ff9809528"
      },
      "outputs": [
        {
          "output_type": "stream",
          "name": "stdout",
          "text": [
            "{'2022': {'Branch 1': {'1': {'Roll Number': 1, 'Name': 'N', 'Marks': {'Maths': 100, 'English': 70}}}, 'Branch 2': {}}, '2023': {'Branch 1': {}, 'Branch 2': {}}, '2024': {'Branch 1': {}, 'Branch 2': {}}, '2025': {'Branch 1': {}, 'Branch 2': {}}}\n"
          ]
        }
      ],
      "source": [
        "nested_dictionary = {\"2022\": {\"Branch 1\": {\"1\":{\"Roll Number\": 1, \"Name\": \"N\", \"Marks\": { \"Maths\": 100, \"English\": 70 }}}, \"Branch 2\": {}},\n",
        "                        \"2023\": {\"Branch 1\": {},\"Branch 2\": {}},\n",
        "                        \"2024\": {\"Branch 1\": {},\"Branch 2\": {}},\n",
        "                        \"2025\": {\"Branch 1\": {},\"Branch 2\": {}}}\n",
        "print(nested_dictionary)"
      ]
    },
    {
      "cell_type": "markdown",
      "id": "57e7d670",
      "metadata": {
        "id": "57e7d670"
      },
      "source": [
        "###### Answer 8:"
      ]
    },
    {
      "cell_type": "code",
      "execution_count": 41,
      "id": "10db8bbf",
      "metadata": {
        "colab": {
          "base_uri": "https://localhost:8080/"
        },
        "id": "10db8bbf",
        "outputId": "dd7195da-6342-4265-8cb6-97fd2e40bd76"
      },
      "outputs": [
        {
          "output_type": "stream",
          "name": "stdout",
          "text": [
            "Meet\n",
            "10\n",
            "3\n",
            "10\n"
          ]
        }
      ],
      "source": [
        "class CS_Student:\n",
        "    def __init__(self,name,Rollnumber,grade1,grade2):\n",
        "        self.name = name\n",
        "        self.Rollnumber = Rollnumber\n",
        "        self.Course1 = grade1\n",
        "        self.Course2 = grade2\n",
        "\n",
        "class EE_Student:\n",
        "    def __init__(self,name,Rollnumber,grade1,grade2):\n",
        "        self.name = name\n",
        "        self.Rollnumber = Rollnumber\n",
        "        self.Course1 = grade1\n",
        "        self.Course2 = grade2\n",
        "\n",
        "class ME_Student:\n",
        "    def __init__(self,name,Rollnumber,grade1,grade2):\n",
        "        self.name = name\n",
        "        self.Rollnumber = Rollnumber\n",
        "        self.Course1 = grade1\n",
        "        self.Course2 = grade2\n",
        "\n",
        "class branch:\n",
        "    def __init__(self,l):\n",
        "        self.students=l\n",
        "\n",
        "class year:\n",
        "    def __init__(self,l):\n",
        "        self.branches = l\n",
        "\n",
        "#year 2022\n",
        "#each branch consists of students\n",
        "CS_2022_Id1 = CS_Student('Raju',1,9, 8)\n",
        "CS_2022_Id2 = CS_Student('Farhan',2,10,6)\n",
        "CS_2022_Id3 = CS_Student('Rancho',3,11,5)\n",
        "\n",
        "EE_2022_Id1 = EE_Student('Dhairya',4, 8,7)\n",
        "EE_2022_Id2 = EE_Student('Rahul',5,10,11)\n",
        "EE_2022_Id3 = EE_Student('Bhavesh',6,9,10)\n",
        "\n",
        "ME_2022_Id1 = ME_Student('Varad',7, 7, 7)\n",
        "ME_2022_Id2 = ME_Student('Joy',8,8,6)\n",
        "ME_2022_Id3 = ME_Student('Nokzendi',9,9,7)\n",
        "\n",
        "CS_2022 = branch([CS_2022_Id1, CS_2022_Id2, CS_2022_Id3])\n",
        "EE_2022 = branch([EE_2022_Id1, EE_2022_Id2, EE_2022_Id3])\n",
        "ME_2022 = branch([ME_2022_Id1, EE_2022_Id2, ME_2022_Id3])\n",
        "\n",
        "#each year consists of branches\n",
        "BTech_2022 = year([CS_2022, EE_2022, ME_2022])\n",
        "\n",
        "#year 2023\n",
        "#each branch consists of students\n",
        "CS_2023_Id1 = CS_Student('Virus',1,9, 8)\n",
        "CS_2023_Id2 = CS_Student('Chatur',2,10,6)\n",
        "CS_2023_Id3 = CS_Student('Rohan',3,11,5)\n",
        "\n",
        "EE_2023_Id1 = EE_Student('Rahil',4, 8,7)\n",
        "EE_2023_Id2 = EE_Student('Tatvam',5,10,11)\n",
        "EE_2023_Id3 = EE_Student('Mann',6,9,10)\n",
        "\n",
        "ME_2023_Id1 = ME_Student('Meet',7, 7, 7)\n",
        "ME_2023_Id2 = ME_Student('Jugal',8,8,6)\n",
        "ME_2023_Id3 = ME_Student('Harshvardhan',9,9,7)\n",
        "\n",
        "CS_2023 = branch([CS_2023_Id1, CS_2023_Id2, CS_2023_Id3])\n",
        "EE_2023 = branch([EE_2023_Id1, EE_2023_Id2, EE_2023_Id3])\n",
        "ME_2023 = branch([ME_2023_Id1, EE_2023_Id2, ME_2023_Id3])\n",
        "\n",
        "#each year consists of branches\n",
        "BTech_2023 = year([CS_2023, EE_2023, ME_2023])\n",
        "\n",
        "#year 2024\n",
        "#each branch consists of students\n",
        "CS_2024_Id1 = CS_Student('Inderjeet',1,9, 8)\n",
        "CS_2024_Id2 = CS_Student('Yash',2,10,6)\n",
        "CS_2024_Id3 = CS_Student('Pavidhar',3,11,5)\n",
        "\n",
        "EE_2024_Id1 = EE_Student('Dhyey',4, 8,7)\n",
        "EE_2024_Id2 = EE_Student('Dhruv',5,10,11)\n",
        "EE_2024_Id3 = EE_Student('Jinay',6,9,10)\n",
        "\n",
        "ME_2024_Id1 = ME_Student('Riya',7, 7, 7)\n",
        "ME_2024_Id2 = ME_Student('Tanvi',8,8,6)\n",
        "ME_2024_Id3 = ME_Student('Saniya',9,9,7)\n",
        "\n",
        "CS_2024 = branch([CS_2024_Id1, CS_2024_Id2, CS_2024_Id3])\n",
        "EE_2024 = branch([EE_2024_Id1, EE_2024_Id2, EE_2024_Id3])\n",
        "ME_2024 = branch([ME_2024_Id1, EE_2024_Id2, ME_2024_Id3])\n",
        "\n",
        "#each year consists of branches\n",
        "BTech_2024 = year([CS_2024, EE_2024, ME_2024])\n",
        "\n",
        "#year 2025\n",
        "#each branch consists of students\n",
        "CS_2025_Id1 = CS_Student('Kalash',1,9, 8)\n",
        "CS_2025_Id2 = CS_Student('Aditi',2,10,6)\n",
        "CS_2025_Id3 = CS_Student('Lipika',3,11,5)\n",
        "\n",
        "EE_2025_Id1 = EE_Student('Saatvik',4, 8,7)\n",
        "EE_2025_Id2 = EE_Student('Sahil',5,10,11)\n",
        "EE_2025_Id3 = EE_Student('Sanskaar',6,9,10)\n",
        "\n",
        "ME_2025_Id1 = ME_Student('Dwip',7, 7, 7)\n",
        "ME_2025_Id2 = ME_Student('Utkarsh',8,8,6)\n",
        "ME_2025_Id3 = ME_Student('Progyan',9,9,7)\n",
        "\n",
        "CS_2025 = branch([CS_2025_Id1, CS_2025_Id2, CS_2025_Id3])\n",
        "EE_2025 = branch([EE_2025_Id1, EE_2025_Id2, EE_2025_Id3])\n",
        "ME_2025 = branch([ME_2025_Id1, EE_2025_Id2, ME_2025_Id3])\n",
        "\n",
        "#each year consists of branches\n",
        "BTech_2025 = year([CS_2025, EE_2025, ME_2025])\n",
        "\n",
        "#Main database consists of years\n",
        "database= [BTech_2022, BTech_2023, BTech_2024, BTech_2025]\n",
        "\n",
        "\n",
        "#queries\n",
        "print(database[1].branches[2].students[0].name)  #Meet\n",
        "print(database[0].branches[1].students[2].Course2) #10\n",
        "print(database[0].branches[0].students[2].Rollnumber) #3\n",
        "print(database[2].branches[0].students[1].Course1) #10\n",
        "\n",
        "\n"
      ]
    },
    {
      "cell_type": "markdown",
      "source": [
        "I have created classes assuming that that are 4 batches of btech in the database. In all the years there are 3 branches namely CS, EE, and ME. Each branch has 3 students, each student has a name, roll number, marks in course 1 and course 2. I used similar grades for most of the students because it was just an example but we can also use random.randint function to generate random grades between 1 and 10."
      ],
      "metadata": {
        "id": "1Y6m_HqAFG8j"
      },
      "id": "1Y6m_HqAFG8j"
    },
    {
      "cell_type": "markdown",
      "id": "b87c9b85",
      "metadata": {
        "id": "b87c9b85"
      },
      "source": [
        "###### Answer 9:"
      ]
    },
    {
      "cell_type": "code",
      "execution_count": 73,
      "id": "b858ae35",
      "metadata": {
        "colab": {
          "base_uri": "https://localhost:8080/",
          "height": 283
        },
        "id": "b858ae35",
        "outputId": "705af2e8-9abb-4bde-e4bc-1bd97041d918"
      },
      "outputs": [
        {
          "output_type": "display_data",
          "data": {
            "text/plain": [
              "<Figure size 432x288 with 1 Axes>"
            ],
            "image/png": "[encoded data removed]"
          },
          "metadata": {
            "needs_background": "light"
          }
        }
      ],
      "source": [
        "import matplotlib.pyplot as plt\n",
        "import numpy as np\n",
        "x = np.linspace(0.5, 100.0, 200)\n",
        "y = x\n",
        "plt.plot(x, y, label='$y=x$')\n",
        "#plt.xticks(x)\n",
        "plt.title('Graph of $y=x$')\n",
        "plt.legend(loc='upper left')\n",
        "plt.grid()\n",
        "plt.show()"
      ]
    },
    {
      "cell_type": "code",
      "execution_count": 74,
      "id": "1de334f8",
      "metadata": {
        "colab": {
          "base_uri": "https://localhost:8080/",
          "height": 285
        },
        "id": "1de334f8",
        "outputId": "6fde6d80-0891-49e8-d08d-2dab8f0a10b9"
      },
      "outputs": [
        {
          "output_type": "display_data",
          "data": {
            "text/plain": [
              "<Figure size 432x288 with 1 Axes>"
            ],
            "image/png": "[encoded data removed]"
          },
          "metadata": {
            "needs_background": "light"
          }
        }
      ],
      "source": [
        "import matplotlib.pyplot as plt\n",
        "import numpy as np\n",
        "x = np.linspace(0.5, 100.0, 200)\n",
        "y = x**2\n",
        "plt.plot(x, y, label='$y=x^2$')\n",
        "#plt.xticks(x)\n",
        "plt.title('Graph of $y=x^2$')\n",
        "plt.legend(loc='upper left')\n",
        "plt.grid()\n",
        "plt.show()"
      ]
    },
    {
      "cell_type": "code",
      "execution_count": 75,
      "id": "88173289",
      "metadata": {
        "colab": {
          "base_uri": "https://localhost:8080/",
          "height": 285
        },
        "id": "88173289",
        "outputId": "68895435-4135-44a2-d6be-67737f9b78e4"
      },
      "outputs": [
        {
          "output_type": "display_data",
          "data": {
            "text/plain": [
              "<Figure size 432x288 with 1 Axes>"
            ],
            "image/png": "[encoded data removed]"
          },
          "metadata": {
            "needs_background": "light"
          }
        }
      ],
      "source": [
        "import matplotlib.pyplot as plt\n",
        "import numpy as np\n",
        "x = np.linspace(0.5, 100.0, 200)\n",
        "y = (x**3)/100\n",
        "plt.plot(x, y, label='$y=x^3$')\n",
        "#plt.xticks(x)\n",
        "plt.title('Graph of $y=x^3$')\n",
        "plt.legend(loc='upper left')\n",
        "plt.grid()\n",
        "plt.show()"
      ]
    },
    {
      "cell_type": "code",
      "execution_count": 76,
      "id": "8ba12d47",
      "metadata": {
        "colab": {
          "base_uri": "https://localhost:8080/",
          "height": 283
        },
        "id": "8ba12d47",
        "outputId": "b2cbc4a8-72a5-42b7-a639-f312107b05d9"
      },
      "outputs": [
        {
          "output_type": "display_data",
          "data": {
            "text/plain": [
              "<Figure size 432x288 with 1 Axes>"
            ],
            "image/png": "[encoded data removed]"
          },
          "metadata": {
            "needs_background": "light"
          }
        }
      ],
      "source": [
        "import matplotlib.pyplot as plt\n",
        "import numpy as np\n",
        "import math\n",
        "x = np.linspace(0.5, 100.0, 200)\n",
        "y = np.sin(x)\n",
        "plt.plot(x, y, label='$y=sin(x)$')\n",
        "#plt.xticks(x)\n",
        "plt.title('Graph of $y=sin(x)$')\n",
        "plt.legend(loc='upper left')\n",
        "plt.grid()\n",
        "plt.show()"
      ]
    },
    {
      "cell_type": "code",
      "execution_count": 77,
      "id": "41fd06db",
      "metadata": {
        "colab": {
          "base_uri": "https://localhost:8080/",
          "height": 283
        },
        "id": "41fd06db",
        "outputId": "38023e1e-2fbf-4a88-9602-631efd003d41"
      },
      "outputs": [
        {
          "output_type": "display_data",
          "data": {
            "text/plain": [
              "<Figure size 432x288 with 1 Axes>"
            ],
            "image/png": "[encoded data removed]"
          },
          "metadata": {
            "needs_background": "light"
          }
        }
      ],
      "source": [
        "import matplotlib.pyplot as plt\n",
        "import numpy as np\n",
        "x = np.linspace(0.5, 100.0, 200)\n",
        "y = np.sin(x)/x\n",
        "plt.plot(x, y, label='$y=sin(x)/x$')\n",
        "#plt.xticks(x)\n",
        "plt.title('Graph of $y=sin(x)/x$')\n",
        "plt.legend(loc='upper left')\n",
        "plt.grid()\n",
        "plt.show()"
      ]
    },
    {
      "cell_type": "code",
      "execution_count": 78,
      "id": "d870dc79",
      "metadata": {
        "colab": {
          "base_uri": "https://localhost:8080/",
          "height": 283
        },
        "id": "d870dc79",
        "outputId": "97c269f6-e5df-4453-bf0a-2b0ed608eef8"
      },
      "outputs": [
        {
          "output_type": "display_data",
          "data": {
            "text/plain": [
              "<Figure size 432x288 with 1 Axes>"
            ],
            "image/png": "[encoded data removed]"
          },
          "metadata": {
            "needs_background": "light"
          }
        }
      ],
      "source": [
        "import matplotlib.pyplot as plt\n",
        "import numpy as np\n",
        "x = np.linspace(0.5, 100.0, 200)\n",
        "y = np.log(x)\n",
        "plt.plot(x, y, label='$y=log(x)$')\n",
        "#plt.xticks(x)\n",
        "plt.title('Graph of $y=log(x)$')\n",
        "plt.legend(loc='upper left')\n",
        "plt.grid()\n",
        "plt.show()"
      ]
    },
    {
      "cell_type": "code",
      "execution_count": 79,
      "id": "321988df",
      "metadata": {
        "colab": {
          "base_uri": "https://localhost:8080/",
          "height": 283
        },
        "id": "321988df",
        "outputId": "a11bb4c1-a144-4305-9729-5140e24608cd"
      },
      "outputs": [
        {
          "output_type": "display_data",
          "data": {
            "text/plain": [
              "<Figure size 432x288 with 1 Axes>"
            ],
            "image/png": "[encoded data removed]"
          },
          "metadata": {
            "needs_background": "light"
          }
        }
      ],
      "source": [
        "import matplotlib.pyplot as plt\n",
        "import numpy as np\n",
        "x = np.linspace(0.5, 100.0, 200)\n",
        "y = np.exp(x)\n",
        "plt.plot(x, y, label='$y=e^x$')\n",
        "#plt.xticks(x)\n",
        "plt.title('Graph of $y=e^x$')\n",
        "plt.legend(loc='upper left')\n",
        "plt.grid()\n",
        "plt.show()"
      ]
    },
    {
      "cell_type": "markdown",
      "id": "63b30946",
      "metadata": {
        "id": "63b30946"
      },
      "source": [
        "###### Answer 10:"
      ]
    },
    {
      "cell_type": "code",
      "execution_count": 69,
      "id": "5cb27e70",
      "metadata": {
        "colab": {
          "base_uri": "https://localhost:8080/"
        },
        "id": "5cb27e70",
        "outputId": "6833c6bc-0885-4711-b8be-94bc18e65559"
      },
      "outputs": [
        {
          "output_type": "stream",
          "name": "stdout",
          "text": [
            "c\n",
            "1\n"
          ]
        }
      ],
      "source": [
        "import numpy as np\n",
        "import pandas as pd\n",
        "\n",
        "arr = np.random.uniform(1, 2, size=(20, 5))\n",
        "df = pd.DataFrame(arr, columns=[\"a\", \"b\", \"c\", \"d\", \"e\"])\n",
        "\n",
        "max_std = df.std().idxmax()\n",
        "print(max_std)\n",
        "\n",
        "min_mean = df.mean(axis=1).idxmin()\n",
        "print(min_mean)"
      ]
    },
    {
      "cell_type": "markdown",
      "id": "f58c1054",
      "metadata": {
        "id": "f58c1054"
      },
      "source": [
        "###### Answer 11:"
      ]
    },
    {
      "cell_type": "code",
      "execution_count": 70,
      "id": "094b8d75",
      "metadata": {
        "colab": {
          "base_uri": "https://localhost:8080/"
        },
        "id": "094b8d75",
        "outputId": "1c1612d5-2e52-4582-86b0-44e7959b143a"
      },
      "outputs": [
        {
          "output_type": "stream",
          "name": "stdout",
          "text": [
            "12\n",
            "0.4611177726089174\n",
            "0.35046306150929973\n"
          ]
        }
      ],
      "source": [
        "import numpy as np\n",
        "import pandas as pd\n",
        "\n",
        "arr = np.random.uniform(1, 2, size=(20, 7))\n",
        "df = pd.DataFrame(arr, columns=[\"a\", \"b\", \"c\", \"d\", \"e\", \"f\", \"g\"])\n",
        "\n",
        "df['f'] = df['a'] + df['b'] + df['c'] + df['d'] + df['e']\n",
        "df = df.assign(g=np.where(df['f'] < 8, 'LT8', 'GT8'))\n",
        "\n",
        "glt8 = df.loc[df['g'] == 'LT8', 'g'].count()\n",
        "print(glt8)\n",
        "\n",
        "std_lt8 = df.loc[df['g'] == 'LT8', 'f'].std()\n",
        "print(std_lt8)\n",
        "\n",
        "std_gt8 = df.loc[df['g'] == 'GT8', 'f'].std()\n",
        "print(std_gt8)"
      ]
    },
    {
      "cell_type": "markdown",
      "id": "a2754fe4",
      "metadata": {
        "id": "a2754fe4"
      },
      "source": [
        "###### Answer 12:"
      ]
    },
    {
      "cell_type": "markdown",
      "id": "6b6a1cdf",
      "metadata": {
        "id": "6b6a1cdf"
      },
      "source": [
        "In NumPy, \"broadcasting\" refers to the ability of NumPy to treat arrays of different shapes during arithmetic operations in a way that can lead to more efficient code. Here is a simple example that demonstrates broadcasting in NumPy:"
      ]
    },
    {
      "cell_type": "code",
      "execution_count": 71,
      "id": "6813718e",
      "metadata": {
        "colab": {
          "base_uri": "https://localhost:8080/"
        },
        "id": "6813718e",
        "outputId": "cff4bcda-68a6-4847-a492-6d28321a2dbe"
      },
      "outputs": [
        {
          "output_type": "stream",
          "name": "stdout",
          "text": [
            "[[3. 3. 3.]\n",
            " [3. 3. 3.]]\n"
          ]
        }
      ],
      "source": [
        "import numpy as np\n",
        "\n",
        "# Create a 2x3 array with all elements equal to 1\n",
        "a = np.ones((2, 3))\n",
        "\n",
        "# Create a 1x3 array with all elements equal to 2\n",
        "b = np.array([2, 2, 2])\n",
        "\n",
        "# Add the two arrays using broadcasting\n",
        "c = a + b\n",
        "\n",
        "print(c)"
      ]
    },
    {
      "cell_type": "markdown",
      "id": "42da87be",
      "metadata": {
        "id": "42da87be"
      },
      "source": [
        "In this example, the array b is \"broadcast\" to the shape of a during the addition operation, resulting in the element-wise addition of a and b. The output is a new array with the same shape as a and containing the sum of the corresponding elements from a and b. Broadcasting can be a powerful tool for writing efficient and concise code."
      ]
    },
    {
      "cell_type": "markdown",
      "id": "be9c62ca",
      "metadata": {
        "id": "be9c62ca"
      },
      "source": [
        "###### Answer 13:"
      ]
    },
    {
      "cell_type": "code",
      "execution_count": 72,
      "id": "92be0c8f",
      "metadata": {
        "colab": {
          "base_uri": "https://localhost:8080/"
        },
        "id": "92be0c8f",
        "outputId": "adf01129-6726-42cc-877d-a6a95d591f16"
      },
      "outputs": [
        {
          "output_type": "stream",
          "name": "stdout",
          "text": [
            "2\n",
            "2\n"
          ]
        }
      ],
      "source": [
        "import numpy as np\n",
        "def argmin(array):\n",
        "    mini = arr[0]\n",
        "    ind = -1\n",
        "\n",
        "    for i in range(1, len(arr)):\n",
        "   \n",
        "        if arr[i] < mini:\n",
        "            mini = arr[i]\n",
        "            ind = i\n",
        "    return ind\n",
        "\n",
        "#Comparing it with np.argmin function\n",
        "arr = [3, 2, 1, 4, 5]\n",
        "array1 = np.array([3, 2, 1, 4, 5])\n",
        "idx = np.argmin(array1)\n",
        "print(idx)\n",
        "print(argmin(arr))"
      ]
    },
    {
      "cell_type": "markdown",
      "source": [
        "# The End"
      ],
      "metadata": {
        "id": "TZn8xARFK90u"
      },
      "id": "TZn8xARFK90u"
    }
  ],
  "metadata": {
    "kernelspec": {
      "display_name": "Python 3 (ipykernel)",
      "language": "python",
      "name": "python3"
    },
    "language_info": {
      "codemirror_mode": {
        "name": "ipython",
        "version": 3
      },
      "file_extension": ".py",
      "mimetype": "text/x-python",
      "name": "python",
      "nbconvert_exporter": "python",
      "pygments_lexer": "ipython3",
      "version": "3.9.12"
    },
    "colab": {
      "provenance": []
    }
  },
  "nbformat": 4,
  "nbformat_minor": 5
}
