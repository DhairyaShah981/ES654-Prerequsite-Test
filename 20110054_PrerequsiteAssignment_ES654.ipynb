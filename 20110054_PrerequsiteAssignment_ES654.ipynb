{
  "cells": [
    {
      "cell_type": "markdown",
      "id": "9dcd93fb",
      "metadata": {
        "id": "9dcd93fb"
      },
      "source": [
        "# Machine Learning Pre-requisite Assignment"
      ]
    },
    {
      "cell_type": "markdown",
      "id": "f3a3ab6e",
      "metadata": {
        "id": "f3a3ab6e"
      },
      "source": [
        "###### Answer 1:"
      ]
    },
    {
      "cell_type": "markdown",
      "id": "c7f1cc58",
      "metadata": {
        "id": "c7f1cc58"
      },
      "source": [
        "If we multiply a matrix A with n rows and k columns with a matrix B with k rows and m columns, we get the result matrix with n rows and m columns. It is because when we multiply each row of A with each column of B we will get n.m elements in the final matrix. \n",
        "\n",
        "If we write down the values of all the elements of the result matrix, we will see that each element is the sum of k pairs where each pair is the product of two elements (one from ith row of A and one from ith column of B). Hence there are k multiplications in each entry of result matrix. As I said before there are n.m entries in the result matrix. Therefore we can conclude that there are n.k.m multiplications in the matrix multiplications of A and B.\n",
        "\n",
        "As I said that each element is the sum of \"k pairs\", we can say that there will be k-1 additions in all the entries of result matrix. If there n.m entries in the result then there will be a total of n.m.(k-1) additions in the matrix multiplication of A and B."
      ]
    },
    {
      "cell_type": "markdown",
      "id": "d5e01c1b",
      "metadata": {
        "id": "d5e01c1b"
      },
      "source": [
        "###### Answer 2:"
      ]
    },
    {
      "cell_type": "code",
      "execution_count": null,
      "id": "4954da6e",
      "metadata": {
        "id": "4954da6e"
      },
      "outputs": [],
      "source": [
        "# Using list of lists\n",
        "import timeit\n",
        "import statistics as st\n",
        "import random\n",
        "\n",
        "print(\"Enter the values of n, k and m:\")\n",
        "n = int(input())\n",
        "k = int(input())\n",
        "m = int(input())\n",
        "\n",
        "def matrix_multiplication(n, k, m):\n",
        "    matrix1 = []\n",
        "\n",
        "    for i in range(n):\n",
        "        temp = []\n",
        "        for j in range(k):\n",
        "            temp.append(random.randint(-2147483648, 2147483647))\n",
        "        matrix1.append(temp)\n",
        "\n",
        "    matrix2 = []\n",
        "\n",
        "    for i in range(k):\n",
        "        temp = []\n",
        "        for j in range(m):\n",
        "            temp.append(random.randint(-2147483648, 2147483647))\n",
        "        matrix2.append(temp)\n",
        "\n",
        "\n",
        "\n",
        "    result = [[0 for x in range(m)] for y in range(n)]\n",
        "\n",
        "    begin = timeit.default_timer()\n",
        "    # iterate through rows of matrix1\n",
        "    for i in range(len(matrix1)):\n",
        "        # iterate through columns of matrix2\n",
        "        for j in range(len(matrix2[0])):\n",
        "            # iterate through rows of matrix2\n",
        "            for h in range(len(matrix2)):\n",
        "                result[i][j] += matrix1[i][h] * matrix2[h][j]\n",
        "    end = timeit.default_timer()\n",
        "    elapsed_time = round((end - begin) * 10 ** 6, 3)\n",
        "    return elapsed_time\n",
        "\n",
        "timetaken = []\n",
        "def get_avg(arr):\n",
        "    sumi = 0\n",
        "    for i in range(len(arr)):\n",
        "        sumi = sumi + arr[i]\n",
        "    return sumi/len(arr)\n",
        "\n",
        "for i in range(1000):\n",
        "    time = matrix_multiplication(n, k, m)\n",
        "    timetaken.append(time)\n",
        "\n",
        "avg = get_avg(timetaken)\n",
        "print(\"The average time taken: \", avg)\n",
        "print(\"Standard deviation: \", st.stdev(timetaken))"
      ]
    },
    {
      "cell_type": "markdown",
      "source": [
        "![List.jpg](data:image/jpeg;base64,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)"
      ],
      "metadata": {
        "id": "gI-hgserUGdG"
      },
      "id": "gI-hgserUGdG"
    },
    {
      "cell_type": "code",
      "execution_count": null,
      "id": "3a56d8da",
      "metadata": {
        "id": "3a56d8da"
      },
      "outputs": [],
      "source": [
        "# Using numpy\n",
        "import timeit\n",
        "import numpy as np\n",
        "import statistics as st\n",
        "import random \n",
        "\n",
        "print(\"Enter the values of n, k and m:\")\n",
        "n = int(input())\n",
        "k = int(input())\n",
        "m = int(input())\n",
        "\n",
        "def matrix_multiplication(n, k, m):\n",
        "    \n",
        "    entries1 = []\n",
        "    for i in range(n*k):\n",
        "      entries1.append(random.randint(-2147483648, 2147483647))\n",
        "    matrix1 = np.array(entries1).reshape(n, k)\n",
        "\n",
        "    entries2 = []\n",
        "    for i in range(k*m):\n",
        "      entries2.append(random.randint(-2147483648, 2147483647))\n",
        "    matrix2 = np.array(entries2).reshape(k, m)\n",
        "\n",
        "    begin = timeit.default_timer()\n",
        "    result = np.dot(matrix1, matrix2)\n",
        "    end = timeit.default_timer()\n",
        "\n",
        "    elapsed_time = round((end - begin) * 10 ** 6, 3)\n",
        "    return elapsed_time\n",
        "\n",
        "timetaken = []\n",
        "def get_avg(arr):\n",
        "    sumi = 0\n",
        "    for i in range(len(arr)):\n",
        "        sumi = sumi + arr[i]\n",
        "    return sumi/len(arr)\n",
        "\n",
        "for i in range(1000):\n",
        "    time = matrix_multiplication(n, k, m)\n",
        "    timetaken.append(time)\n",
        "\n",
        "avg = get_avg(timetaken)\n",
        "print(\"The average time taken: \", avg)\n",
        "print(\"Standard deviation: \", st.stdev(timetaken))"
      ]
    },
    {
      "cell_type": "markdown",
      "source": [
        "![numpy.jpg](data:image/jpeg;base64,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)"
      ],
      "metadata": {
        "id": "IQ_aKm-ST5i0"
      },
      "id": "IQ_aKm-ST5i0"
    },
    {
      "cell_type": "markdown",
      "id": "09b26661",
      "metadata": {
        "id": "09b26661"
      },
      "source": [
        "As we can see, the time in NumPy is 100 times lesser, making it quicker than the list of lists technique. This is because Numpy is built in C and translates its internal data to ctypes. Lists, unlike NumPy, do not provide \"vectorized\" operations such as element-wise addition and multiplication. Since they might include objects of various types, Python must maintain type information for each element and run type dispatching code when working on each member. To conclude, vectorized operations in Numpy are translated to highly optimized C code, making them far quicker than their standard Python equivalents.\n",
        "\n",
        "[Referred from StackOverflow article on this topic](https://stackoverflow.com/questions/42227432/why-is-it-that-np-dot-is-so-much-faster-than-finding-the-dot-product-using-for-l#:~:text=Because%20np.,faster%20than%20the%20Python%20interpreter)"
      ]
    },
    {
      "cell_type": "markdown",
      "id": "e3b7d972",
      "metadata": {
        "id": "e3b7d972"
      },
      "source": [
        "###### Answer 3:"
      ]
    },
    {
      "cell_type": "code",
      "execution_count": null,
      "id": "8b9ba97a",
      "metadata": {
        "id": "8b9ba97a"
      },
      "outputs": [],
      "source": [
        "import timeit\n",
        "import statistics as st\n",
        "import random \n",
        "\n",
        "def brute_median(A):\n",
        "  begin = timeit.default_timer()\n",
        "  n = len(A)\n",
        "  l = n // 2\n",
        "  largest = -2454635434\n",
        "  for i in range(0, n):\n",
        "    largest = max(largest, A[i])\n",
        "\n",
        "  for i in range(l):\n",
        "    maxi = -2454635434\n",
        "    last = largest\n",
        "    for j in range(n):\n",
        "      if(A[j] > maxi and A[j] < largest):\n",
        "        maxi = A[j]\n",
        "    largest = maxi\n",
        "  if n % 2 == 0:\n",
        "    median = (largest + last) / 2\n",
        "  else:\n",
        "    median = largest\n",
        "  #return median\n",
        "  end = timeit.default_timer()\n",
        "  elapsed_time = round((end - begin) * 10 ** 6, 3)\n",
        "  return elapsed_time\n",
        "\n",
        "print(\"Please enter the length of the array:\") \n",
        "n = int(input())\n",
        "entries = []\n",
        "for i in range(n):\n",
        "  entries.append(random.randint(-2147483648, 2147483647))\n",
        "\n",
        "#arr = [ 5, 10, 1, 3, 4, 19, 9, 2]\n",
        "#print(brute_median(arr))\n",
        "\n",
        "for i in range(1000):\n",
        "    time = brute_median(entries)\n",
        "    timetaken.append(time)\n",
        "\n",
        "avg = get_avg(timetaken)\n",
        "print(\"The average time taken: \", avg)\n",
        "print(\"Standard deviation: \", st.stdev(timetaken))"
      ]
    },
    {
      "cell_type": "markdown",
      "source": [
        "![brute.jpg](data:image/jpeg;base64,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)"
      ],
      "metadata": {
        "id": "BIzPO5YrmhAX"
      },
      "id": "BIzPO5YrmhAX"
    },
    {
      "cell_type": "code",
      "source": [
        "import timeit\n",
        "import statistics as st\n",
        "import random \n",
        "\n",
        "def find_median(lst):\n",
        "  begin = timeit.default_timer()\n",
        "  lst.sort()\n",
        "  if len(lst) % 2 == 1:\n",
        "    median = lst[len(lst) // 2]\n",
        "  else:\n",
        "    median = (lst[len(lst) // 2 - 1] + lst[len(lst) // 2]) / 2\n",
        "  #return median\n",
        "  end = timeit.default_timer()\n",
        "  elapsed_time = round((end - begin) * 10 ** 6, 3)\n",
        "  return elapsed_time\n",
        "\n",
        "print(\"Please enter the length of the array:\") \n",
        "n = int(input())\n",
        "entries = []\n",
        "for i in range(n):\n",
        "  entries.append(random.randint(-2147483648, 2147483647))\n",
        "\n",
        "#arr = [ 5, 10, 1, 3, 4, 19, 9, 2]\n",
        "#print(find_median(arr))\n",
        "\n",
        "for i in range(1000):\n",
        "    time = find_median(entries)\n",
        "    timetaken.append(time)\n",
        "\n",
        "avg = get_avg(timetaken)\n",
        "print(\"The average time taken: \", avg)\n",
        "print(\"Standard deviation: \", st.stdev(timetaken))"
      ],
      "metadata": {
        "id": "JFwoL1gxcAj4"
      },
      "id": "JFwoL1gxcAj4",
      "execution_count": null,
      "outputs": []
    },
    {
      "cell_type": "markdown",
      "source": [
        "![sorting.jpg](data:image/jpeg;base64,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)"
      ],
      "metadata": {
        "id": "3rk6S9femn9Z"
      },
      "id": "3rk6S9femn9Z"
    },
    {
      "cell_type": "code",
      "source": [
        "import timeit\n",
        "import statistics as st\n",
        "import random \n",
        "\n",
        "def quickselect(lst, k):\n",
        "  if not 0 <= k < len(lst):\n",
        "    return None\n",
        "\n",
        "  pivot = lst[len(lst) // 2]\n",
        "  left = [x for x in lst if x < pivot]\n",
        "  middle = [x for x in lst if x == pivot]\n",
        "  right = [x for x in lst if x > pivot]\n",
        "\n",
        "  if k < len(left):\n",
        "    return quickselect(left, k)\n",
        "  elif k < len(left) + len(middle):\n",
        "    return middle[0]\n",
        "  else:\n",
        "    return quickselect(right, k - len(left) - len(middle))\n",
        "\n",
        "def find_median(lst):\n",
        "  begin = timeit.default_timer()\n",
        "  if len(lst) % 2 == 1:\n",
        "    median = quickselect(lst, len(lst) // 2)\n",
        "  else:\n",
        "    median = (quickselect(lst, len(lst) // 2 - 1) + quickselect(lst, len(lst) // 2)) / 2\n",
        "  #return median\n",
        "  end = timeit.default_timer()\n",
        "  elapsed_time = round((end - begin) * 10 ** 6, 3)\n",
        "  return elapsed_time\n",
        "\n",
        "print(\"Please enter the length of the array:\") \n",
        "n = int(input())\n",
        "entries = []\n",
        "for i in range(n):\n",
        "  entries.append(random.randint(-2147483648, 2147483647))\n",
        "\n",
        "#arr = [ 5, 10, 1, 3, 4, 19, 9, 2]\n",
        "#print(find_median(arr))\n",
        "\n",
        "for i in range(1000):\n",
        "    time = find_median(entries)\n",
        "    timetaken.append(time)\n",
        "\n",
        "avg = get_avg(timetaken)\n",
        "print(\"The average time taken: \", avg)\n",
        "print(\"Standard deviation: \", st.stdev(timetaken))\n"
      ],
      "metadata": {
        "id": "mKt6D1LtdTWD"
      },
      "id": "mKt6D1LtdTWD",
      "execution_count": null,
      "outputs": []
    },
    {
      "cell_type": "markdown",
      "source": [
        "![quick.jpg](data:image/jpeg;base64,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)"
      ],
      "metadata": {
        "id": "WPVCYE1Zm1zn"
      },
      "id": "WPVCYE1Zm1zn"
    },
    {
      "cell_type": "code",
      "source": [
        "import timeit\n",
        "import statistics as st\n",
        "import random \n",
        "\n",
        "def find_median(arr):\n",
        "  begin = timeit.default_timer()\n",
        "  median = np.median(arr)\n",
        "  end = timeit.default_timer()\n",
        "  #return median\n",
        "  elapsed_time = round((end - begin) * 10 ** 6, 3)\n",
        "  return elapsed_time\n",
        "\n",
        "print(\"Please enter the length of the array:\") \n",
        "n = int(input())\n",
        "entries = []\n",
        "for i in range(n):\n",
        "  entries.append(random.randint(-2147483648, 2147483647))\n",
        "#arr = [ 5, 10, 1, 3, 4, 19, 9, 2]\n",
        "#print(median)\n",
        "\n",
        "for i in range(1000):\n",
        "    time = find_median(entries)\n",
        "    timetaken.append(time)\n",
        "\n",
        "avg = get_avg(timetaken)\n",
        "print(\"The average time taken: \", avg)\n",
        "print(\"Standard deviation: \", st.stdev(timetaken))"
      ],
      "metadata": {
        "id": "ZlabN9e0o69k"
      },
      "id": "ZlabN9e0o69k",
      "execution_count": null,
      "outputs": []
    },
    {
      "cell_type": "markdown",
      "source": [
        "![numpymedian.jpg](data:image/jpeg;base64,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)"
      ],
      "metadata": {
        "id": "lCaN2Zaxrogr"
      },
      "id": "lCaN2Zaxrogr"
    },
    {
      "cell_type": "markdown",
      "source": [
        "The time complexity of first approach is approximately $O(n^2)$. The time complexity of sorting approach (2nd) is $O(nlogn)$. I also learned about the quickselect approach (3rd) to find the median. It is similar to quicksort algorithm and its average time complexity is $O(n)$ and in worst case it goes to $O(n^2)$.\n",
        "\n",
        "Now let us compare all of those to numpy.median function. We can observe that 4th approach is significantly faster than all the three approaches. It is because of the reason explained in 2nd answer."
      ],
      "metadata": {
        "id": "hIu7yeDCmVwD"
      },
      "id": "hIu7yeDCmVwD"
    },
    {
      "cell_type": "markdown",
      "id": "7b14d73f",
      "metadata": {
        "id": "7b14d73f"
      },
      "source": [
        "###### Answer 4:"
      ]
    },
    {
      "cell_type": "markdown",
      "id": "a387f45a",
      "metadata": {
        "id": "a387f45a"
      },
      "source": [
        "The gradient of $f(x,y) = x^2y + y^3sin(x)$ with respect to x is $2xy + y^3cos(x)$ and with respect to y is $x^2 + 3y^2sin(x)$"
      ]
    },
    {
      "cell_type": "markdown",
      "id": "7129be81",
      "metadata": {
        "id": "7129be81"
      },
      "source": [
        "###### Answer 5:"
      ]
    },
    {
      "cell_type": "code",
      "source": [
        "import jax.numpy as np\n",
        "from jax import grad, jit\n",
        "\n",
        "def f(x, y):\n",
        "    return x**2 * y + y**3 * np.sin(x)\n",
        "\n",
        "dfdx = grad(f, 0)\n",
        "dfdy = grad(f, 1)\n",
        "\n",
        "grad_x = dfdx(1.5, 4.1)\n",
        "grad_y = dfdy(1.5, 4.1)\n",
        "\n",
        "print(grad_x) #17.175278\n",
        "print(grad_y) #52.553673"
      ],
      "metadata": {
        "colab": {
          "base_uri": "https://localhost:8080/"
        },
        "id": "L0l9Gm7EQZdS",
        "outputId": "75812ec7-ce53-4c2a-8975-1bf0a2466370"
      },
      "id": "L0l9Gm7EQZdS",
      "execution_count": 34,
      "outputs": [
        {
          "output_type": "stream",
          "name": "stdout",
          "text": [
            "17.175278\n",
            "52.553673\n"
          ]
        }
      ]
    },
    {
      "cell_type": "code",
      "source": [
        "import jax.numpy as np\n",
        "\n",
        "def f(x, y):\n",
        "  return 2*x*y + y**3*np.cos(x)\n",
        "def g(x, y):\n",
        "  return x**2 + 3*y**2*np.sin(x) \n",
        "\n",
        "print(f(1.5, 4.1)) #17.175278\n",
        "print(g(1.5, 4.1)) #52.553673\n"
      ],
      "metadata": {
        "colab": {
          "base_uri": "https://localhost:8080/"
        },
        "id": "7hUEIJQUthDy",
        "outputId": "4d82960e-8724-4d3e-bd9b-cf8e18caa389"
      },
      "id": "7hUEIJQUthDy",
      "execution_count": 28,
      "outputs": [
        {
          "output_type": "stream",
          "name": "stdout",
          "text": [
            "17.175278\n",
            "52.553673\n"
          ]
        }
      ]
    },
    {
      "cell_type": "markdown",
      "source": [
        "As you can using jax we can check for random values of x and y that our analytical solution of gradient is correct."
      ],
      "metadata": {
        "id": "f4B_gwuCvhpl"
      },
      "id": "f4B_gwuCvhpl"
    },
    {
      "cell_type": "markdown",
      "id": "775c6554",
      "metadata": {
        "id": "775c6554"
      },
      "source": [
        "###### Answer 6:"
      ]
    },
    {
      "cell_type": "code",
      "execution_count": 51,
      "id": "9ab748bf",
      "metadata": {
        "colab": {
          "base_uri": "https://localhost:8080/"
        },
        "id": "9ab748bf",
        "outputId": "ea294b5c-1f9e-4fb9-8deb-2ef011f658c8"
      },
      "outputs": [
        {
          "output_type": "stream",
          "name": "stdout",
          "text": [
            "Matrix([[2*x*y + y**3*cos(x)], [x**2 + 3*y**2*sin(x)]])\n",
            "[17.1752786761398, 52.5536721744425]\n"
          ]
        }
      ],
      "source": [
        "import sympy\n",
        "\n",
        "x, y = sympy.symbols('x y')\n",
        "f = x**2 * y + y**3 * sympy.sin(x)\n",
        "gradient = sympy.Matrix([sympy.diff(f, x), sympy.diff(f, y)])\n",
        "\n",
        "print(gradient)\n",
        "\n",
        "gradient_at_xy = [g.evalf(subs={x: 1.5, y: 4.1}) for g in gradient] \n",
        "print(gradient_at_xy) #[17.1752786761398, 52.5536721744425]"
      ]
    },
    {
      "cell_type": "markdown",
      "id": "0887c4ff",
      "metadata": {
        "id": "0887c4ff"
      },
      "source": [
        "###### Answer 7:"
      ]
    },
    {
      "cell_type": "code",
      "execution_count": 35,
      "id": "b705f94b",
      "metadata": {
        "colab": {
          "base_uri": "https://localhost:8080/"
        },
        "id": "b705f94b",
        "outputId": "64fea2f4-41ad-4a5e-c93b-881ff9809528"
      },
      "outputs": [
        {
          "output_type": "stream",
          "name": "stdout",
          "text": [
            "{'2022': {'Branch 1': {'1': {'Roll Number': 1, 'Name': 'N', 'Marks': {'Maths': 100, 'English': 70}}}, 'Branch 2': {}}, '2023': {'Branch 1': {}, 'Branch 2': {}}, '2024': {'Branch 1': {}, 'Branch 2': {}}, '2025': {'Branch 1': {}, 'Branch 2': {}}}\n"
          ]
        }
      ],
      "source": [
        "nested_dictionary = {\"2022\": {\"Branch 1\": {\"1\":{\"Roll Number\": 1, \"Name\": \"N\", \"Marks\": { \"Maths\": 100, \"English\": 70 }}}, \"Branch 2\": {}},\n",
        "                        \"2023\": {\"Branch 1\": {},\"Branch 2\": {}},\n",
        "                        \"2024\": {\"Branch 1\": {},\"Branch 2\": {}},\n",
        "                        \"2025\": {\"Branch 1\": {},\"Branch 2\": {}}}\n",
        "print(nested_dictionary)"
      ]
    },
    {
      "cell_type": "markdown",
      "id": "57e7d670",
      "metadata": {
        "id": "57e7d670"
      },
      "source": [
        "###### Answer 8:"
      ]
    },
    {
      "cell_type": "code",
      "execution_count": 41,
      "id": "10db8bbf",
      "metadata": {
        "colab": {
          "base_uri": "https://localhost:8080/"
        },
        "id": "10db8bbf",
        "outputId": "dd7195da-6342-4265-8cb6-97fd2e40bd76"
      },
      "outputs": [
        {
          "output_type": "stream",
          "name": "stdout",
          "text": [
            "Meet\n",
            "10\n",
            "3\n",
            "10\n"
          ]
        }
      ],
      "source": [
        "class CS_Student:\n",
        "    def __init__(self,name,Rollnumber,grade1,grade2):\n",
        "        self.name = name\n",
        "        self.Rollnumber = Rollnumber\n",
        "        self.Course1 = grade1\n",
        "        self.Course2 = grade2\n",
        "\n",
        "class EE_Student:\n",
        "    def __init__(self,name,Rollnumber,grade1,grade2):\n",
        "        self.name = name\n",
        "        self.Rollnumber = Rollnumber\n",
        "        self.Course1 = grade1\n",
        "        self.Course2 = grade2\n",
        "\n",
        "class ME_Student:\n",
        "    def __init__(self,name,Rollnumber,grade1,grade2):\n",
        "        self.name = name\n",
        "        self.Rollnumber = Rollnumber\n",
        "        self.Course1 = grade1\n",
        "        self.Course2 = grade2\n",
        "\n",
        "class branch:\n",
        "    def __init__(self,l):\n",
        "        self.students=l\n",
        "\n",
        "class year:\n",
        "    def __init__(self,l):\n",
        "        self.branches = l\n",
        "\n",
        "#year 2022\n",
        "#each branch consists of students\n",
        "CS_2022_Id1 = CS_Student('Raju',1,9, 8)\n",
        "CS_2022_Id2 = CS_Student('Farhan',2,10,6)\n",
        "CS_2022_Id3 = CS_Student('Rancho',3,11,5)\n",
        "\n",
        "EE_2022_Id1 = EE_Student('Dhairya',4, 8,7)\n",
        "EE_2022_Id2 = EE_Student('Rahul',5,10,11)\n",
        "EE_2022_Id3 = EE_Student('Bhavesh',6,9,10)\n",
        "\n",
        "ME_2022_Id1 = ME_Student('Varad',7, 7, 7)\n",
        "ME_2022_Id2 = ME_Student('Joy',8,8,6)\n",
        "ME_2022_Id3 = ME_Student('Nokzendi',9,9,7)\n",
        "\n",
        "CS_2022 = branch([CS_2022_Id1, CS_2022_Id2, CS_2022_Id3])\n",
        "EE_2022 = branch([EE_2022_Id1, EE_2022_Id2, EE_2022_Id3])\n",
        "ME_2022 = branch([ME_2022_Id1, EE_2022_Id2, ME_2022_Id3])\n",
        "\n",
        "#each year consists of branches\n",
        "BTech_2022 = year([CS_2022, EE_2022, ME_2022])\n",
        "\n",
        "#year 2023\n",
        "#each branch consists of students\n",
        "CS_2023_Id1 = CS_Student('Virus',1,9, 8)\n",
        "CS_2023_Id2 = CS_Student('Chatur',2,10,6)\n",
        "CS_2023_Id3 = CS_Student('Rohan',3,11,5)\n",
        "\n",
        "EE_2023_Id1 = EE_Student('Rahil',4, 8,7)\n",
        "EE_2023_Id2 = EE_Student('Tatvam',5,10,11)\n",
        "EE_2023_Id3 = EE_Student('Mann',6,9,10)\n",
        "\n",
        "ME_2023_Id1 = ME_Student('Meet',7, 7, 7)\n",
        "ME_2023_Id2 = ME_Student('Jugal',8,8,6)\n",
        "ME_2023_Id3 = ME_Student('Harshvardhan',9,9,7)\n",
        "\n",
        "CS_2023 = branch([CS_2023_Id1, CS_2023_Id2, CS_2023_Id3])\n",
        "EE_2023 = branch([EE_2023_Id1, EE_2023_Id2, EE_2023_Id3])\n",
        "ME_2023 = branch([ME_2023_Id1, EE_2023_Id2, ME_2023_Id3])\n",
        "\n",
        "#each year consists of branches\n",
        "BTech_2023 = year([CS_2023, EE_2023, ME_2023])\n",
        "\n",
        "#year 2024\n",
        "#each branch consists of students\n",
        "CS_2024_Id1 = CS_Student('Inderjeet',1,9, 8)\n",
        "CS_2024_Id2 = CS_Student('Yash',2,10,6)\n",
        "CS_2024_Id3 = CS_Student('Pavidhar',3,11,5)\n",
        "\n",
        "EE_2024_Id1 = EE_Student('Dhyey',4, 8,7)\n",
        "EE_2024_Id2 = EE_Student('Dhruv',5,10,11)\n",
        "EE_2024_Id3 = EE_Student('Jinay',6,9,10)\n",
        "\n",
        "ME_2024_Id1 = ME_Student('Riya',7, 7, 7)\n",
        "ME_2024_Id2 = ME_Student('Tanvi',8,8,6)\n",
        "ME_2024_Id3 = ME_Student('Saniya',9,9,7)\n",
        "\n",
        "CS_2024 = branch([CS_2024_Id1, CS_2024_Id2, CS_2024_Id3])\n",
        "EE_2024 = branch([EE_2024_Id1, EE_2024_Id2, EE_2024_Id3])\n",
        "ME_2024 = branch([ME_2024_Id1, EE_2024_Id2, ME_2024_Id3])\n",
        "\n",
        "#each year consists of branches\n",
        "BTech_2024 = year([CS_2024, EE_2024, ME_2024])\n",
        "\n",
        "#year 2025\n",
        "#each branch consists of students\n",
        "CS_2025_Id1 = CS_Student('Kalash',1,9, 8)\n",
        "CS_2025_Id2 = CS_Student('Aditi',2,10,6)\n",
        "CS_2025_Id3 = CS_Student('Lipika',3,11,5)\n",
        "\n",
        "EE_2025_Id1 = EE_Student('Saatvik',4, 8,7)\n",
        "EE_2025_Id2 = EE_Student('Sahil',5,10,11)\n",
        "EE_2025_Id3 = EE_Student('Sanskaar',6,9,10)\n",
        "\n",
        "ME_2025_Id1 = ME_Student('Dwip',7, 7, 7)\n",
        "ME_2025_Id2 = ME_Student('Utkarsh',8,8,6)\n",
        "ME_2025_Id3 = ME_Student('Progyan',9,9,7)\n",
        "\n",
        "CS_2025 = branch([CS_2025_Id1, CS_2025_Id2, CS_2025_Id3])\n",
        "EE_2025 = branch([EE_2025_Id1, EE_2025_Id2, EE_2025_Id3])\n",
        "ME_2025 = branch([ME_2025_Id1, EE_2025_Id2, ME_2025_Id3])\n",
        "\n",
        "#each year consists of branches\n",
        "BTech_2025 = year([CS_2025, EE_2025, ME_2025])\n",
        "\n",
        "#Main database consists of years\n",
        "database= [BTech_2022, BTech_2023, BTech_2024, BTech_2025]\n",
        "\n",
        "\n",
        "#queries\n",
        "print(database[1].branches[2].students[0].name)  #Meet\n",
        "print(database[0].branches[1].students[2].Course2) #10\n",
        "print(database[0].branches[0].students[2].Rollnumber) #3\n",
        "print(database[2].branches[0].students[1].Course1) #10\n",
        "\n",
        "\n"
      ]
    },
    {
      "cell_type": "markdown",
      "source": [
        "I have created classes assuming that that are 4 batches of btech in the database. In all the years there are 3 branches namely CS, EE, and ME. Each branch has 3 students, each student has a name, roll number, marks in course 1 and course 2. I used similar grades for most of the students because it was just an example but we can also use random.randint function to generate random grades between 1 and 10."
      ],
      "metadata": {
        "id": "1Y6m_HqAFG8j"
      },
      "id": "1Y6m_HqAFG8j"
    },
    {
      "cell_type": "markdown",
      "id": "b87c9b85",
      "metadata": {
        "id": "b87c9b85"
      },
      "source": [
        "###### Answer 9:"
      ]
    },
    {
      "cell_type": "code",
      "execution_count": 42,
      "id": "b858ae35",
      "metadata": {
        "colab": {
          "base_uri": "https://localhost:8080/",
          "height": 297
        },
        "id": "b858ae35",
        "outputId": "6c9ae76b-113a-44dc-e533-17672b3afc83"
      },
      "outputs": [
        {
          "output_type": "display_data",
          "data": {
            "text/plain": [
              "<Figure size 432x288 with 1 Axes>"
            ],
            "image/png": "[encoded data removed]"
          },
          "metadata": {
            "needs_background": "light"
          }
        }
      ],
      "source": [
        "import matplotlib.pyplot as plt\n",
        "import numpy as np\n",
        "x = np.linspace(0.5, 100.0, 200)\n",
        "y = x\n",
        "plt.plot(x, y, '-r', label='$y=x$')\n",
        "#plt.xticks(x)\n",
        "plt.title('Graph of $y=x$')\n",
        "plt.xlabel('x', color='#1C2833')\n",
        "plt.ylabel('y', color='#1C2833')\n",
        "plt.legend(loc='upper left')\n",
        "plt.grid()\n",
        "plt.show()"
      ]
    },
    {
      "cell_type": "code",
      "execution_count": 43,
      "id": "1de334f8",
      "metadata": {
        "colab": {
          "base_uri": "https://localhost:8080/",
          "height": 299
        },
        "id": "1de334f8",
        "outputId": "ec39ff9e-37a9-4259-c356-fe8137c8fec6"
      },
      "outputs": [
        {
          "output_type": "display_data",
          "data": {
            "text/plain": [
              "<Figure size 432x288 with 1 Axes>"
            ],
            "image/png": "[encoded data removed]"
          },
          "metadata": {
            "needs_background": "light"
          }
        }
      ],
      "source": [
        "import matplotlib.pyplot as plt\n",
        "import numpy as np\n",
        "x = np.linspace(0.5, 100.0, 200)\n",
        "y = x**2\n",
        "plt.plot(x, y, '-r', label='$y=x^2$')\n",
        "#plt.xticks(x, x, rotation ='vertical')\n",
        "plt.title('Graph of $y=x^2$')\n",
        "plt.xlabel('x', color='#1C2833')\n",
        "plt.ylabel('y', color='#1C2833')\n",
        "plt.legend(loc='upper left')\n",
        "plt.grid()\n",
        "plt.show()"
      ]
    },
    {
      "cell_type": "code",
      "execution_count": 44,
      "id": "88173289",
      "metadata": {
        "colab": {
          "base_uri": "https://localhost:8080/",
          "height": 299
        },
        "id": "88173289",
        "outputId": "212f12ec-2e34-41ad-f306-b3ca936cc282"
      },
      "outputs": [
        {
          "output_type": "display_data",
          "data": {
            "text/plain": [
              "<Figure size 432x288 with 1 Axes>"
            ],
            "image/png": "[encoded data removed]"
          },
          "metadata": {
            "needs_background": "light"
          }
        }
      ],
      "source": [
        "import matplotlib.pyplot as plt\n",
        "import numpy as np\n",
        "x = np.linspace(0.5, 100.0, 200)\n",
        "y = (x**3)/100\n",
        "plt.plot(x, y, '-r', label='$y=x^3$')\n",
        "#plt.xticks(x, x, rotation ='vertical')\n",
        "plt.title('Graph of $y=x^3$')\n",
        "plt.xlabel('x', color='#1C2833')\n",
        "plt.ylabel('y', color='#1C2833')\n",
        "plt.legend(loc='upper left')\n",
        "plt.grid()\n",
        "plt.show()"
      ]
    },
    {
      "cell_type": "code",
      "execution_count": 45,
      "id": "8ba12d47",
      "metadata": {
        "colab": {
          "base_uri": "https://localhost:8080/",
          "height": 297
        },
        "id": "8ba12d47",
        "outputId": "9b9918e7-1fed-4b57-e9a8-4780849868b8"
      },
      "outputs": [
        {
          "output_type": "display_data",
          "data": {
            "text/plain": [
              "<Figure size 432x288 with 1 Axes>"
            ],
            "image/png": "[encoded data removed]"
          },
          "metadata": {
            "needs_background": "light"
          }
        }
      ],
      "source": [
        "import matplotlib.pyplot as plt\n",
        "import numpy as np\n",
        "import math\n",
        "x = np.linspace(0.5, 100.0, 200)\n",
        "y = np.sin(x)\n",
        "plt.plot(x, y, '-r', label='$y=sin(x)$')\n",
        "#plt.xticks(x, x, rotation ='vertical')\n",
        "plt.title('Graph of $y=sin(x)$')\n",
        "plt.xlabel('x', color='#1C2833')\n",
        "plt.ylabel('y', color='#1C2833')\n",
        "plt.legend(loc='upper left')\n",
        "plt.grid()\n",
        "plt.show()"
      ]
    },
    {
      "cell_type": "code",
      "execution_count": 46,
      "id": "41fd06db",
      "metadata": {
        "colab": {
          "base_uri": "https://localhost:8080/",
          "height": 297
        },
        "id": "41fd06db",
        "outputId": "1b6e7489-103e-41a4-e443-061c2f155905"
      },
      "outputs": [
        {
          "output_type": "display_data",
          "data": {
            "text/plain": [
              "<Figure size 432x288 with 1 Axes>"
            ],
            "image/png": "[encoded data removed]"
          },
          "metadata": {
            "needs_background": "light"
          }
        }
      ],
      "source": [
        "import matplotlib.pyplot as plt\n",
        "import numpy as np\n",
        "x = np.linspace(0.5, 100.0, 200)\n",
        "y = np.sin(x)/x\n",
        "plt.plot(x, y, '-r', label='$y=sin(x)/x$')\n",
        "#plt.xticks(x, x, rotation ='vertical')\n",
        "plt.title('Graph of $y=sin(x)/x$')\n",
        "plt.xlabel('x', color='#1C2833')\n",
        "plt.ylabel('y', color='#1C2833')\n",
        "plt.legend(loc='upper left')\n",
        "plt.grid()\n",
        "plt.show()"
      ]
    },
    {
      "cell_type": "code",
      "execution_count": 47,
      "id": "d870dc79",
      "metadata": {
        "colab": {
          "base_uri": "https://localhost:8080/",
          "height": 297
        },
        "id": "d870dc79",
        "outputId": "3e091293-ce59-481a-eee7-a6469421d901"
      },
      "outputs": [
        {
          "output_type": "display_data",
          "data": {
            "text/plain": [
              "<Figure size 432x288 with 1 Axes>"
            ],
            "image/png": "[encoded data removed]"
          },
          "metadata": {
            "needs_background": "light"
          }
        }
      ],
      "source": [
        "import matplotlib.pyplot as plt\n",
        "import numpy as np\n",
        "x = np.linspace(0.5, 100.0, 200)\n",
        "y = np.log(x)\n",
        "plt.plot(x, y, '-r', label='$y=log(x)$')\n",
        "#plt.xticks(x, x, rotation ='vertical')\n",
        "plt.title('Graph of $y=log(x)$')\n",
        "plt.xlabel('x', color='#1C2833')\n",
        "plt.ylabel('y', color='#1C2833')\n",
        "plt.legend(loc='upper left')\n",
        "plt.grid()\n",
        "plt.show()"
      ]
    },
    {
      "cell_type": "code",
      "execution_count": 48,
      "id": "321988df",
      "metadata": {
        "colab": {
          "base_uri": "https://localhost:8080/",
          "height": 297
        },
        "id": "321988df",
        "outputId": "ac681e6b-f5f2-4416-95db-6351f0428ae0"
      },
      "outputs": [
        {
          "output_type": "display_data",
          "data": {
            "text/plain": [
              "<Figure size 432x288 with 1 Axes>"
            ],
            "image/png": "[encoded data removed]"
          },
          "metadata": {
            "needs_background": "light"
          }
        }
      ],
      "source": [
        "import matplotlib.pyplot as plt\n",
        "import numpy as np\n",
        "x = np.linspace(0.5, 100.0, 200)\n",
        "y = np.exp(x)\n",
        "plt.plot(x, y, '-r', label='$y=e^x$')\n",
        "#plt.xticks(x, x, rotation ='vertical')\n",
        "plt.title('Graph of $y=e^x$')\n",
        "plt.xlabel('x', color='#1C2833')\n",
        "plt.ylabel('y', color='#1C2833')\n",
        "plt.legend(loc='upper left')\n",
        "plt.grid()\n",
        "plt.show()"
      ]
    },
    {
      "cell_type": "markdown",
      "id": "63b30946",
      "metadata": {
        "id": "63b30946"
      },
      "source": [
        "###### Answer 10:"
      ]
    },
    {
      "cell_type": "code",
      "execution_count": 49,
      "id": "5cb27e70",
      "metadata": {
        "colab": {
          "base_uri": "https://localhost:8080/"
        },
        "id": "5cb27e70",
        "outputId": "07deb100-70e8-426a-e8c0-a4879f4e7e67"
      },
      "outputs": [
        {
          "output_type": "stream",
          "name": "stdout",
          "text": [
            "Column with highest standard deviation: e\n",
            "Row with lowest mean: 0\n"
          ]
        }
      ],
      "source": [
        "import numpy as np\n",
        "import pandas as pd\n",
        "\n",
        "arr = np.random.uniform(1, 2, size=(20, 5))\n",
        "df = pd.DataFrame(arr, columns=[\"a\", \"b\", \"c\", \"d\", \"e\"])\n",
        "\n",
        "max_std_column = df.std().idxmax()\n",
        "print(f\"Column with highest standard deviation: {max_std_column}\")\n",
        "\n",
        "min_mean_row = df.mean(axis=1).idxmin()\n",
        "print(f\"Row with lowest mean: {min_mean_row}\")"
      ]
    },
    {
      "cell_type": "markdown",
      "id": "f58c1054",
      "metadata": {
        "id": "f58c1054"
      },
      "source": [
        "###### Answer 11:"
      ]
    },
    {
      "cell_type": "code",
      "execution_count": 50,
      "id": "094b8d75",
      "metadata": {
        "colab": {
          "base_uri": "https://localhost:8080/"
        },
        "id": "094b8d75",
        "outputId": "cb4a0722-af78-4eb6-e02e-7e93c76bc9f8"
      },
      "outputs": [
        {
          "output_type": "stream",
          "name": "stdout",
          "text": [
            "Number of rows where the value in the column \"g\" is \"LT8\": 16\n",
            "Standard deviation of the column \"f\" for rows where the value in the column \"g\" is \"LT8\": 0.58\n",
            "Standard deviation of the column \"f\" for rows where the value in the column \"g\" is \"GT8\": 0.18\n"
          ]
        }
      ],
      "source": [
        "import numpy as np\n",
        "import pandas as pd\n",
        "\n",
        "arr = np.random.uniform(1, 2, size=(20, 7))\n",
        "df = pd.DataFrame(arr, columns=[\"a\", \"b\", \"c\", \"d\", \"e\", \"f\", \"g\"])\n",
        "\n",
        "df['f'] = df['a'] + df['b'] + df['c'] + df['d'] + df['e']\n",
        "df = df.assign(g=np.where(df['f'] < 8, 'LT8', 'GT8'))\n",
        "\n",
        "num_lt8 = df.loc[df['g'] == 'LT8', 'g'].count()\n",
        "print(f'Number of rows where the value in the column \"g\" is \"LT8\": {num_lt8}')\n",
        "\n",
        "std_lt8 = df.loc[df['g'] == 'LT8', 'f'].std()\n",
        "print(f'Standard deviation of the column \"f\" for rows where the value in the column \"g\" is \"LT8\": {std_lt8:.2f}')\n",
        "\n",
        "std_gt8 = df.loc[df['g'] == 'GT8', 'f'].std()\n",
        "print(f'Standard deviation of the column \"f\" for rows where the value in the column \"g\" is \"GT8\": {std_gt8:.2f}')\n"
      ]
    },
    {
      "cell_type": "markdown",
      "id": "a2754fe4",
      "metadata": {
        "id": "a2754fe4"
      },
      "source": [
        "###### Answer 12:"
      ]
    },
    {
      "cell_type": "markdown",
      "id": "6b6a1cdf",
      "metadata": {
        "id": "6b6a1cdf"
      },
      "source": [
        "In NumPy, \"broadcasting\" refers to the ability of NumPy to treat arrays of different shapes during arithmetic operations in a way that can lead to more efficient code. Here is a simple example that demonstrates broadcasting in NumPy:"
      ]
    },
    {
      "cell_type": "code",
      "execution_count": null,
      "id": "6813718e",
      "metadata": {
        "id": "6813718e",
        "outputId": "2055373b-9aa4-46e0-e727-34e23c851599"
      },
      "outputs": [
        {
          "name": "stdout",
          "output_type": "stream",
          "text": [
            "[[3. 3. 3.]\n",
            " [3. 3. 3.]]\n"
          ]
        }
      ],
      "source": [
        "import numpy as np\n",
        "\n",
        "# Create a 2x3 array with all elements equal to 1\n",
        "a = np.ones((2, 3))\n",
        "\n",
        "# Create a 1x3 array with all elements equal to 2\n",
        "b = np.array([2, 2, 2])\n",
        "\n",
        "# Add the two arrays using broadcasting\n",
        "c = a + b\n",
        "\n",
        "print(c)"
      ]
    },
    {
      "cell_type": "markdown",
      "id": "42da87be",
      "metadata": {
        "id": "42da87be"
      },
      "source": [
        "In this example, the array b is \"broadcast\" to the shape of a during the addition operation, resulting in the element-wise addition of a and b. The output is a new array with the same shape as a and containing the sum of the corresponding elements from a and b. Broadcasting can be a powerful tool for writing efficient and concise code."
      ]
    },
    {
      "cell_type": "markdown",
      "id": "be9c62ca",
      "metadata": {
        "id": "be9c62ca"
      },
      "source": [
        "###### Answer 13:"
      ]
    },
    {
      "cell_type": "code",
      "execution_count": 56,
      "id": "92be0c8f",
      "metadata": {
        "colab": {
          "base_uri": "https://localhost:8080/"
        },
        "id": "92be0c8f",
        "outputId": "e4e0d72a-562e-4e75-d086-9eb8ba0468a6"
      },
      "outputs": [
        {
          "output_type": "stream",
          "name": "stdout",
          "text": [
            "2\n",
            "2\n"
          ]
        }
      ],
      "source": [
        "import numpy as np\n",
        "def argmin(array):\n",
        "    mini = arr[0]\n",
        "    ind = -1\n",
        "\n",
        "    for i in range(1, len(arr)):\n",
        "   \n",
        "        if arr[i] < mini:\n",
        "            mini = arr[i]\n",
        "            ind = i\n",
        "    return ind\n",
        "\n",
        "#Comparing it with np.argmin function\n",
        "arr = [3, 2, 1, 4, 5]\n",
        "array1 = np.array([3, 2, 1, 4, 5])\n",
        "idx = np.argmin(array1)\n",
        "print(idx)\n",
        "print(argmin(arr))"
      ]
    },
    {
      "cell_type": "markdown",
      "source": [
        "# The End"
      ],
      "metadata": {
        "id": "TZn8xARFK90u"
      },
      "id": "TZn8xARFK90u"
    }
  ],
  "metadata": {
    "kernelspec": {
      "display_name": "Python 3 (ipykernel)",
      "language": "python",
      "name": "python3"
    },
    "language_info": {
      "codemirror_mode": {
        "name": "ipython",
        "version": 3
      },
      "file_extension": ".py",
      "mimetype": "text/x-python",
      "name": "python",
      "nbconvert_exporter": "python",
      "pygments_lexer": "ipython3",
      "version": "3.9.12"
    },
    "colab": {
      "provenance": []
    }
  },
  "nbformat": 4,
  "nbformat_minor": 5
}